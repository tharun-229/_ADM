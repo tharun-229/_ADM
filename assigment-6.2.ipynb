{
  "nbformat": 4,
  "nbformat_minor": 0,
  "metadata": {
    "colab": {
      "provenance": [],
      "authorship_tag": "ABX9TyM9I4w+4BsR+bPwbQwWH5MI",
      "include_colab_link": true
    },
    "kernelspec": {
      "name": "python3",
      "display_name": "Python 3"
    },
    "language_info": {
      "name": "python"
    }
  },
  "cells": [
    {
      "cell_type": "markdown",
      "metadata": {
        "id": "view-in-github",
        "colab_type": "text"
      },
      "source": [
        "<a href=\"https://colab.research.google.com/github/tharun-229/_ADM/blob/main/assigment-6.2.ipynb\" target=\"_parent\"><img src=\"https://colab.research.google.com/assets/colab-badge.svg\" alt=\"Open In Colab\"/></a>"
      ]
    },
    {
      "cell_type": "code",
      "source": [
        "import pandas as pd\n",
        "data = pd.read_csv('/content/Mall_Customers.csv')\n",
        "\n",
        "print(data)"
      ],
      "metadata": {
        "colab": {
          "base_uri": "https://localhost:8080/"
        },
        "id": "IUP7IQeqhvGW",
        "outputId": "bbf30302-0845-431d-93ff-7564aa3c925d"
      },
      "execution_count": 19,
      "outputs": [
        {
          "output_type": "stream",
          "name": "stdout",
          "text": [
            "     CustomerID   Genre  Age  Annual_Income_(k$)  Spending_Score\n",
            "0             1    Male   19                  15              39\n",
            "1             2    Male   21                  15              81\n",
            "2             3  Female   20                  16               6\n",
            "3             4  Female   23                  16              77\n",
            "4             5  Female   31                  17              40\n",
            "..          ...     ...  ...                 ...             ...\n",
            "195         196  Female   35                 120              79\n",
            "196         197  Female   45                 126              28\n",
            "197         198    Male   32                 126              74\n",
            "198         199    Male   32                 137              18\n",
            "199         200    Male   30                 137              83\n",
            "\n",
            "[200 rows x 5 columns]\n"
          ]
        }
      ]
    },
    {
      "cell_type": "code",
      "source": [
        "import pandas as pd\n",
        "data = pd.read_csv('/content/Mall_Customers.csv')\n",
        "\n",
        "missing_values = data.isnull().sum()\n",
        "print(\"Missing values in each column:\\n\", missing_values)\n",
        "\n",
        "missing_percentage = (missing_values / len(data)) * 100\n",
        "print(\"\\nPercentage of missing values in each column:\\n\", missing_percentage)\n"
      ],
      "metadata": {
        "colab": {
          "base_uri": "https://localhost:8080/"
        },
        "id": "UtjfDyOyr2bp",
        "outputId": "a7b69324-c7e6-488e-89ec-dbca5c37e3e2"
      },
      "execution_count": 20,
      "outputs": [
        {
          "output_type": "stream",
          "name": "stdout",
          "text": [
            "Missing values in each column:\n",
            " CustomerID            0\n",
            "Genre                 0\n",
            "Age                   0\n",
            "Annual_Income_(k$)    0\n",
            "Spending_Score        0\n",
            "dtype: int64\n",
            "\n",
            "Percentage of missing values in each column:\n",
            " CustomerID            0.0\n",
            "Genre                 0.0\n",
            "Age                   0.0\n",
            "Annual_Income_(k$)    0.0\n",
            "Spending_Score        0.0\n",
            "dtype: float64\n"
          ]
        }
      ]
    },
    {
      "cell_type": "code",
      "source": [
        "data = pd.read_csv('/content/Mall_Customers.csv')\n",
        "\n",
        "numerical_data = data.select_dtypes(include=['number'])\n",
        "\n",
        "mean_values = numerical_data.mean()\n",
        "median_values = numerical_data.median()\n",
        "mode_values = numerical_data.mode().iloc[0]\n",
        "\n",
        "# Print the results\n",
        "print(\"Mean values for numerical columns:\\n\", mean_values)\n",
        "print(\"\\nMedian values for numerical columns:\\n\", median_values)\n",
        "print(\"\\nMode values for numerical columns:\\n\", mode_values)\n"
      ],
      "metadata": {
        "colab": {
          "base_uri": "https://localhost:8080/"
        },
        "id": "DmiIMJAFs3lC",
        "outputId": "4ccec470-9724-439a-9f8a-26f1f0012be3"
      },
      "execution_count": 21,
      "outputs": [
        {
          "output_type": "stream",
          "name": "stdout",
          "text": [
            "Mean values for numerical columns:\n",
            " CustomerID            100.50\n",
            "Age                    38.85\n",
            "Annual_Income_(k$)     60.56\n",
            "Spending_Score         50.20\n",
            "dtype: float64\n",
            "\n",
            "Median values for numerical columns:\n",
            " CustomerID            100.5\n",
            "Age                    36.0\n",
            "Annual_Income_(k$)     61.5\n",
            "Spending_Score         50.0\n",
            "dtype: float64\n",
            "\n",
            "Mode values for numerical columns:\n",
            " CustomerID             1.0\n",
            "Age                   32.0\n",
            "Annual_Income_(k$)    54.0\n",
            "Spending_Score        42.0\n",
            "Name: 0, dtype: float64\n"
          ]
        }
      ]
    },
    {
      "cell_type": "code",
      "source": [
        "import pandas as pd\n",
        "from sklearn.preprocessing import MinMaxScaler\n",
        "data = pd.read_csv('/content/Mall_Customers.csv')\n",
        "print(\"Column names in the dataset:\")\n",
        "print(data.columns)\n",
        "\n",
        "scaler = MinMaxScaler()\n",
        "columns_to_normalize = ['Age', 'Fare']\n",
        "if all(column in data.columns for column in columns_to_normalize):\n",
        "    data[columns_to_normalize] = scaler.fit_transform(data[columns_to_normalize])\n",
        "    print(\"\\nNormalized data (first 5 rows):\")\n",
        "    print(data[columns_to_normalize].head())\n",
        "else:\n",
        "    print(f\"Error: One or more columns {columns_to_normalize} do not exist in the dataset.\")\n",
        "print(\"\\nFirst 5 rows of the entire dataset with normalized columns:\")\n",
        "print(data.head())\n"
      ],
      "metadata": {
        "colab": {
          "base_uri": "https://localhost:8080/"
        },
        "id": "0rCyuv8UyUKt",
        "outputId": "161e93fe-db78-4e11-f610-227669623257"
      },
      "execution_count": 28,
      "outputs": [
        {
          "output_type": "stream",
          "name": "stdout",
          "text": [
            "Column names in the dataset:\n",
            "Index(['CustomerID', 'Genre', 'Age', 'Annual_Income_(k$)', 'Spending_Score'], dtype='object')\n",
            "Error: One or more columns ['Age', 'Fare'] do not exist in the dataset.\n",
            "\n",
            "First 5 rows of the entire dataset with normalized columns:\n",
            "   CustomerID   Genre  Age  Annual_Income_(k$)  Spending_Score\n",
            "0           1    Male   19                  15              39\n",
            "1           2    Male   21                  15              81\n",
            "2           3  Female   20                  16               6\n",
            "3           4  Female   23                  16              77\n",
            "4           5  Female   31                  17              40\n"
          ]
        }
      ]
    },
    {
      "cell_type": "code",
      "source": [
        "import pandas as pd\n",
        "from sklearn.preprocessing import MinMaxScaler\n",
        "data = pd.read_csv('/content/Mall_Customers.csv')\n",
        "\n",
        "print(\"Column names in the dataset:\")\n",
        "print(data.columns)\n",
        "scaler = MinMaxScaler()\n",
        "columns_to_normalize = ['Age', 'Annual_Income_(k$)']\n",
        "if all(column in data.columns for column in columns_to_normalize):\n",
        "    data[columns_to_normalize] = scaler.fit_transform(data[columns_to_normalize])\n",
        "    print(\"\\nNormalized data (first 5 rows):\")\n",
        "    print(data[columns_to_normalize].head())\n",
        "    std_deviation = data[columns_to_normalize].std()\n",
        "\n",
        "    print(\"\\nStandard Deviation of normalized columns:\")\n",
        "    print(std_deviation)\n",
        "else:\n",
        "    print(f\"Error: One or more columns {columns_to_normalize} do not exist in the dataset.\")\n",
        "print(\"\\nFirst 5 rows of the entire dataset with normalized columns:\")\n",
        "print(data.head())\n"
      ],
      "metadata": {
        "colab": {
          "base_uri": "https://localhost:8080/"
        },
        "id": "seKps4IKyrcs",
        "outputId": "fcc2721a-d79d-48fe-bfbc-e5e0c4969015"
      },
      "execution_count": 30,
      "outputs": [
        {
          "output_type": "stream",
          "name": "stdout",
          "text": [
            "Column names in the dataset:\n",
            "Index(['CustomerID', 'Genre', 'Age', 'Annual_Income_(k$)', 'Spending_Score'], dtype='object')\n",
            "\n",
            "Normalized data (first 5 rows):\n",
            "        Age  Annual_Income_(k$)\n",
            "0  0.019231            0.000000\n",
            "1  0.057692            0.000000\n",
            "2  0.038462            0.008197\n",
            "3  0.096154            0.008197\n",
            "4  0.250000            0.016393\n",
            "\n",
            "Standard Deviation of normalized columns:\n",
            "Age                   0.268635\n",
            "Annual_Income_(k$)    0.215285\n",
            "dtype: float64\n",
            "\n",
            "First 5 rows of the entire dataset with normalized columns:\n",
            "   CustomerID   Genre       Age  Annual_Income_(k$)  Spending_Score\n",
            "0           1    Male  0.019231            0.000000              39\n",
            "1           2    Male  0.057692            0.000000              81\n",
            "2           3  Female  0.038462            0.008197               6\n",
            "3           4  Female  0.096154            0.008197              77\n",
            "4           5  Female  0.250000            0.016393              40\n"
          ]
        }
      ]
    }
  ]
}