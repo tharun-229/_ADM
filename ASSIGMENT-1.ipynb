{
  "nbformat": 4,
  "nbformat_minor": 0,
  "metadata": {
    "colab": {
      "provenance": [],
      "authorship_tag": "ABX9TyNffvKH7jCUH7gBnS4/4Tji",
      "include_colab_link": true
    },
    "kernelspec": {
      "name": "python3",
      "display_name": "Python 3"
    },
    "language_info": {
      "name": "python"
    }
  },
  "cells": [
    {
      "cell_type": "markdown",
      "metadata": {
        "id": "view-in-github",
        "colab_type": "text"
      },
      "source": [
        "<a href=\"https://colab.research.google.com/github/tharun-229/_ADM/blob/main/ASSIGMENT-1.ipynb\" target=\"_parent\"><img src=\"https://colab.research.google.com/assets/colab-badge.svg\" alt=\"Open In Colab\"/></a>"
      ]
    },
    {
      "cell_type": "code",
      "execution_count": 2,
      "metadata": {
        "colab": {
          "base_uri": "https://localhost:8080/"
        },
        "id": "wChRZ3ZbeuYN",
        "outputId": "c9eb3d89-a9c5-4b90-c91b-11127ac2c436"
      },
      "outputs": [
        {
          "output_type": "stream",
          "name": "stdout",
          "text": [
            "     Pregnancies  Glucose  BloodPressure  SkinThickness  Insulin   BMI  \\\n",
            "0              6      148             72             35        0  33.6   \n",
            "1              1       85             66             29        0  26.6   \n",
            "2              8      183             64              0        0  23.3   \n",
            "3              1       89             66             23       94  28.1   \n",
            "4              0      137             40             35      168  43.1   \n",
            "..           ...      ...            ...            ...      ...   ...   \n",
            "763           10      101             76             48      180  32.9   \n",
            "764            2      122             70             27        0  36.8   \n",
            "765            5      121             72             23      112  26.2   \n",
            "766            1      126             60              0        0  30.1   \n",
            "767            1       93             70             31        0  30.4   \n",
            "\n",
            "     DiabetesPedigreeFunction  Age  Outcome  \n",
            "0                       0.627   50        1  \n",
            "1                       0.351   31        0  \n",
            "2                       0.672   32        1  \n",
            "3                       0.167   21        0  \n",
            "4                       2.288   33        1  \n",
            "..                        ...  ...      ...  \n",
            "763                     0.171   63        0  \n",
            "764                     0.340   27        0  \n",
            "765                     0.245   30        0  \n",
            "766                     0.349   47        1  \n",
            "767                     0.315   23        0  \n",
            "\n",
            "[768 rows x 9 columns]\n"
          ]
        }
      ],
      "source": [
        "import pandas as pd\n",
        "df=pd.read_csv(\"/content/diabetes.csv\")\n",
        "print(df)"
      ]
    },
    {
      "cell_type": "markdown",
      "source": [
        "Diabates"
      ],
      "metadata": {
        "id": "g0NhedQYhKVV"
      }
    },
    {
      "cell_type": "code",
      "source": [
        "column_means = df.mean()\n",
        "print(\"Mean of each column:\")\n",
        "print(column_means)"
      ],
      "metadata": {
        "colab": {
          "base_uri": "https://localhost:8080/"
        },
        "id": "bH7gPvObga9k",
        "outputId": "e2cb6234-635e-4125-9bcd-3d71ee9eeab4"
      },
      "execution_count": 3,
      "outputs": [
        {
          "output_type": "stream",
          "name": "stdout",
          "text": [
            "Mean of each column:\n",
            "Pregnancies                   3.845052\n",
            "Glucose                     120.894531\n",
            "BloodPressure                69.105469\n",
            "SkinThickness                20.536458\n",
            "Insulin                      79.799479\n",
            "BMI                          31.992578\n",
            "DiabetesPedigreeFunction      0.471876\n",
            "Age                          33.240885\n",
            "Outcome                       0.348958\n",
            "dtype: float64\n"
          ]
        }
      ]
    },
    {
      "cell_type": "markdown",
      "source": [
        "Mean"
      ],
      "metadata": {
        "id": "KoBVvrhJhPRz"
      }
    },
    {
      "cell_type": "code",
      "source": [
        "from sklearn.preprocessing import MinMaxScaler, StandardScaler\n",
        "numerical_cols = df.columns[df.dtypes != 'object'].tolist()\n",
        "numerical_cols.remove('Outcome')\n",
        "\n",
        "min_max_scaler = MinMaxScaler()\n",
        "df_minmax = df.copy()\n",
        "df_minmax[numerical_cols] = min_max_scaler.fit_transform(df[numerical_cols])\n",
        "\n",
        "print(\"Dataset after Min-Max Normalization:\")\n",
        "print(df_minmax.head())\n",
        "\n",
        "standard_scaler = StandardScaler()\n",
        "df_standardized = df.copy()\n",
        "df_standardized[numerical_cols] = standard_scaler.fit_transform(df[numerical_cols])\n",
        "\n",
        "print(\"\\nDataset after Standardization:\")\n",
        "print(df_standardized.head())"
      ],
      "metadata": {
        "colab": {
          "base_uri": "https://localhost:8080/"
        },
        "id": "lJ3aHP3og4AL",
        "outputId": "4b58c0bc-5a74-4a92-b8fd-14bbbbcc1b87"
      },
      "execution_count": 6,
      "outputs": [
        {
          "output_type": "stream",
          "name": "stdout",
          "text": [
            "Dataset after Min-Max Normalization:\n",
            "   Pregnancies   Glucose  BloodPressure  SkinThickness   Insulin       BMI  \\\n",
            "0     0.352941  0.743719       0.590164       0.353535  0.000000  0.500745   \n",
            "1     0.058824  0.427136       0.540984       0.292929  0.000000  0.396423   \n",
            "2     0.470588  0.919598       0.524590       0.000000  0.000000  0.347243   \n",
            "3     0.058824  0.447236       0.540984       0.232323  0.111111  0.418778   \n",
            "4     0.000000  0.688442       0.327869       0.353535  0.198582  0.642325   \n",
            "\n",
            "   DiabetesPedigreeFunction       Age  Outcome  \n",
            "0                  0.234415  0.483333        1  \n",
            "1                  0.116567  0.166667        0  \n",
            "2                  0.253629  0.183333        1  \n",
            "3                  0.038002  0.000000        0  \n",
            "4                  0.943638  0.200000        1  \n",
            "\n",
            "Dataset after Standardization:\n",
            "   Pregnancies   Glucose  BloodPressure  SkinThickness   Insulin       BMI  \\\n",
            "0     0.639947  0.848324       0.149641       0.907270 -0.692891  0.204013   \n",
            "1    -0.844885 -1.123396      -0.160546       0.530902 -0.692891 -0.684422   \n",
            "2     1.233880  1.943724      -0.263941      -1.288212 -0.692891 -1.103255   \n",
            "3    -0.844885 -0.998208      -0.160546       0.154533  0.123302 -0.494043   \n",
            "4    -1.141852  0.504055      -1.504687       0.907270  0.765836  1.409746   \n",
            "\n",
            "   DiabetesPedigreeFunction       Age  Outcome  \n",
            "0                  0.468492  1.425995        1  \n",
            "1                 -0.365061 -0.190672        0  \n",
            "2                  0.604397 -0.105584        1  \n",
            "3                 -0.920763 -1.041549        0  \n",
            "4                  5.484909 -0.020496        1  \n"
          ]
        }
      ]
    },
    {
      "cell_type": "markdown",
      "source": [
        "MIN - MAX normalization"
      ],
      "metadata": {
        "id": "KCTfsQLFhSUc"
      }
    }
  ]
}